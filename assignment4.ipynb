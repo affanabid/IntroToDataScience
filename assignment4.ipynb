{
 "cells": [
  {
   "cell_type": "markdown",
   "metadata": {},
   "source": [
    "Import Required Libraries"
   ]
  },
  {
   "cell_type": "code",
   "execution_count": 1,
   "metadata": {},
   "outputs": [],
   "source": [
    "import numpy as np\n",
    "import pandas as pd"
   ]
  },
  {
   "cell_type": "markdown",
   "metadata": {},
   "source": [
    "Task 1: Initialize Temperature and Humidity Data"
   ]
  },
  {
   "cell_type": "code",
   "execution_count": 2,
   "metadata": {},
   "outputs": [],
   "source": [
    "np.random.seed(0)  \n",
    "\n",
    "temperature_data = np.random.uniform(-10, 40, (500, 365))\n",
    "\n",
    "humidity_data = np.random.uniform(0, 100, (500, 365))"
   ]
  },
  {
   "cell_type": "markdown",
   "metadata": {},
   "source": [
    "Task 2: Check for Missing Data"
   ]
  },
  {
   "cell_type": "code",
   "execution_count": 3,
   "metadata": {},
   "outputs": [
    {
     "name": "stdout",
     "output_type": "stream",
     "text": [
      "Missing entries in temperature_data: 9125\n",
      "Missing entries in humidity_data: 9125\n"
     ]
    }
   ],
   "source": [
    "missing_indices_temp = np.random.choice(temperature_data.size, int(0.05 * temperature_data.size), replace=False)\n",
    "temperature_data.flat[missing_indices_temp] = np.nan\n",
    "\n",
    "missing_indices_humidity = np.random.choice(humidity_data.size, int(0.05 * humidity_data.size), replace=False)\n",
    "humidity_data.flat[missing_indices_humidity] = np.nan\n",
    "\n",
    "missing_temp_count = np.isnan(temperature_data).sum()\n",
    "missing_humidity_count = np.isnan(humidity_data).sum()\n",
    "\n",
    "print(\"Missing entries in temperature_data:\", missing_temp_count)\n",
    "print(\"Missing entries in humidity_data:\", missing_humidity_count)"
   ]
  },
  {
   "cell_type": "markdown",
   "metadata": {},
   "source": [
    "Task 3: Convert Temperature and Calculate Discomfort Index"
   ]
  },
  {
   "cell_type": "code",
   "execution_count": 4,
   "metadata": {},
   "outputs": [],
   "source": [
    "temperature_data_fahrenheit = temperature_data * 9/5 + 32\n",
    "\n",
    "feels_like_index = temperature_data + (0.55 * (1 - (humidity_data / 100)) * (temperature_data - 14.5))\n",
    "\n",
    "feels_like_index = np.where(feels_like_index > 80, 80, feels_like_index)\n"
   ]
  },
  {
   "cell_type": "markdown",
   "metadata": {},
   "source": [
    "Task 4: Analyze January Temperatures"
   ]
  },
  {
   "cell_type": "code",
   "execution_count": 5,
   "metadata": {},
   "outputs": [
    {
     "name": "stdout",
     "output_type": "stream",
     "text": [
      "Average January temperature across all locations: 15.047620733901034\n"
     ]
    }
   ],
   "source": [
    "january_temperatures = temperature_data[:, :31]\n",
    "\n",
    "avg_january_temp = np.nanmean(january_temperatures)\n",
    "print(\"Average January temperature across all locations:\", avg_january_temp)"
   ]
  },
  {
   "cell_type": "markdown",
   "metadata": {},
   "source": [
    "Task 5: Identify Extreme Temperatures"
   ]
  },
  {
   "cell_type": "code",
   "execution_count": null,
   "metadata": {},
   "outputs": [],
   "source": [
    "temperature_data[temperature_data > 35] = np.nan\n",
    "\n",
    "null_counts_per_location = np.isnan(temperature_data).sum(axis=1)"
   ]
  },
  {
   "cell_type": "markdown",
   "metadata": {},
   "source": [
    "Task 6: Calculate Quarterly Temperature Averages"
   ]
  },
  {
   "cell_type": "code",
   "execution_count": 7,
   "metadata": {},
   "outputs": [],
   "source": [
    "quarters = np.array_split(temperature_data, 4, axis=1)\n",
    "quarterly_avg_temps = [np.nanmean(quarter, axis=1) for quarter in quarters]\n",
    "quarterly_avg_temps = np.array(quarterly_avg_temps).T  "
   ]
  },
  {
   "cell_type": "markdown",
   "metadata": {},
   "source": [
    "Task 7: Classify Humidity Levels"
   ]
  },
  {
   "cell_type": "code",
   "execution_count": 8,
   "metadata": {},
   "outputs": [
    {
     "name": "stdout",
     "output_type": "stream",
     "text": [
      "Total Dry Days per location: [ 96 112 110 108  95 121  98 101  96 104  94  99  89 125 106  97 100 104\n",
      " 108 124 111  98 117 102  99 105  92 101 104 109 116  92  97  82 115 104\n",
      " 104  93 113 106  96 108 102  95 100  94 110 105  91 110  88 103  83  89\n",
      " 104 116 104 115  90 131  96 101 104 114  89 117 108 119 101  96  94 119\n",
      " 115 109  99 107  95 126 108 105  90 111  94  95 104 102 100  95 121 108\n",
      " 119 108 114 108 113 102 108 105 104 117  96  98 118 100 112 105 120 107\n",
      " 103  99 105 103  90  92 108  90 111  92 113 115 108 124 110 115  91 108\n",
      "  92 110  95 118 104 105 107 117  93 122 104 106  99 103 101 102 106 116\n",
      " 105 114  92  95  93  99 101 103 113 102  87 124 104 106 103 104 105 104\n",
      "  89 101  95 107 106 106  94 105  99 104 111 105 112 102 101 101  93 102\n",
      " 112 113 112 106 111 109 103 100  97 103  96 110  94  90 104 109 119 105\n",
      " 100 111 114 110 102 113  93 115 100 114 113  99 101 106  93 111 108 101\n",
      "  98 102 106 112  98 102 113 104 113  98 109  90 108 105 107  98 101 108\n",
      " 105  96 112 109 103 114 100  99 112 104 101 122 105 111 107  83 101  89\n",
      "  97 101 101  95 100  98  95 103 104 102 108 123 123 125 109 102 114  88\n",
      " 111 112 109 124  94 119 102 100 105 107 112 102 118  99 104 112  99 102\n",
      " 111 117 103  95 112 104 109 102 112 100 105  98 114  94 104 107 104 101\n",
      " 113 105 109 114 101 101  98 101 104 112 110 105 117 114 111 123 108 116\n",
      " 102 110 105 115  95 108 118  98 127 113  89 110 103 105  95 110 109  94\n",
      " 117 106 117 114  92 113  98 108 109 108 105  91 111 116  99  99 113 102\n",
      " 105  99  93  99 123 106 120 113  97 111 104 106 113 100 108 102 105  91\n",
      " 109 112  98 108  98  98  98 112  96 100  94 102 100  86 105  90 107 108\n",
      " 102 108  96 103  98 122 103 107 104 118 101 114 119 104 112 106 102 108\n",
      " 111  99  94 100 114 108 114 102 106  95 107 103 108 102 109 106 115 105\n",
      " 110 119  90 104 102 111  98 108  96  91 109 103 115  92 109 127 104  85\n",
      "  95 111 108 100 107 122 105  98 102 112 102 101  99 103 117  98 114 103\n",
      "  93  99 107 116 109 110 104  93  95 116 109 101 114 101 102 100 106 111\n",
      " 101 108  96 107 104 104  96 111 112 106 124 113  88 104]\n",
      "Total Humid Days per location: [113 114 117 105 115  92 112 102 102 111 102 116 114  87 109 115 107 105\n",
      "  98  86  96 115  91  96  98 106 114 102  99  98 117 112 106 118  98  93\n",
      "  98  94 114 116  98 108 104 116 116  97  87 100 107 111 128 112 112 109\n",
      "  93  98 103 112 126  97  99  91  97 100 114  94 105 109 117 110 117  98\n",
      " 103  99 102 107 116  94  97  83 100 103 108 114 113 108 108 100 105 105\n",
      " 103 102 109 105  97 104 108  93 109  98 111  98  95  98  96 110 110 114\n",
      " 114 104 109  99  97 109 109 111 102 124 105 100 103  93 106 101 108  98\n",
      " 103  94 125  97 101 109 104  94 112  88 103  96  98 106 101 111  95 108\n",
      " 101  96 103 100 103 106 113 103 112 114 103 105  99  99 107 112 103 103\n",
      " 107  92 107  89  99  95 107 101 108 123  87 104  95  89  83 102  98  94\n",
      "  95  83  99  97  98  86  96 108 109  91 101 105  90 113 105  96  97 100\n",
      "  99 110 106  91 115 105 101  91 107  98  95  93 108  91 112 103 100 107\n",
      "  97  99 100 100 119 113  95 115 119 102  94 101  99  90 106 106  96 108\n",
      " 101 113  98  95 108 106 102  97 109 106  97 109 112 103 102 107  96 103\n",
      " 123 111 102 106 100 104 113  99 106 114 100  92  87  99 101 107  99 113\n",
      "  96  91 114  86  96  96 115 107 105 103  93 107  91  98 105 108 105 114\n",
      "  94 101 105 115  96 104 111  91  89 108  98 108 110 108 119  99 100 104\n",
      "  99 103 110  87 106 107  90 104 109 115 112 106  99  97 110  90  99 103\n",
      " 105  97 102 103 103  99  98 109  83 101 109  88 109 101 109 104 102 101\n",
      " 103 107 103 110 109 106 107 106 113 110 104 114  95 116 109  95  91 106\n",
      "  95  96 102 114 110  99 102 100 118 102  97 110  95 104  96 103 117 102\n",
      " 105  93 102 101 114 110  91  90  90 116 114 100 117  98  97 105 102 101\n",
      " 102 120  99 102 106  92 110 112  95  91 102 103  92  99  94 113 104 114\n",
      " 100 109 123 112  98 107  85 107 107 107 108 102 112 109 109 105  95  94\n",
      "  98 105 107  99  93 116  94 103 113 119  91  91 104 118 107  98 103 127\n",
      "  90  92 102 107  96  94 110 103 115  92  92 110 109  97 102 110 108 110\n",
      "  99 117 105  93 112 108  98  99 117  99 106 108 109  94 113 107 109 101\n",
      " 109 102  97  96  99  88 113 103 107 108  95  92 102 112]\n"
     ]
    }
   ],
   "source": [
    "dry_days = (humidity_data < 30).sum(axis=1)\n",
    "humid_days = (humidity_data > 70).sum(axis=1)\n",
    "\n",
    "print(\"Total Dry Days per location:\", dry_days)\n",
    "print(\"Total Humid Days per location:\", humid_days)"
   ]
  },
  {
   "cell_type": "markdown",
   "metadata": {},
   "source": [
    "Task 8: Apply Daily Pressure Trend to Temperature Data"
   ]
  },
  {
   "cell_type": "code",
   "execution_count": 9,
   "metadata": {},
   "outputs": [],
   "source": [
    "daily_pressure_trend = np.random.uniform(-0.5, 0.5, 365)\n",
    "\n",
    "adjusted_temperature_data = temperature_data + daily_pressure_trend"
   ]
  }
 ],
 "metadata": {
  "kernelspec": {
   "display_name": "Python 3",
   "language": "python",
   "name": "python3"
  },
  "language_info": {
   "codemirror_mode": {
    "name": "ipython",
    "version": 3
   },
   "file_extension": ".py",
   "mimetype": "text/x-python",
   "name": "python",
   "nbconvert_exporter": "python",
   "pygments_lexer": "ipython3",
   "version": "3.12.6"
  }
 },
 "nbformat": 4,
 "nbformat_minor": 2
}
