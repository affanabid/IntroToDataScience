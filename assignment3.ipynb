{
 "cells": [
  {
   "cell_type": "markdown",
   "metadata": {},
   "source": [
    "# Assignment 3: Python Programming Concepts\n",
    "\n",
    "## Task 1: E-commerce Data Processing"
   ]
  },
  {
   "cell_type": "markdown",
   "metadata": {},
   "source": [
    "### Part A: Data Validation"
   ]
  },
  {
   "cell_type": "code",
   "execution_count": 1,
   "metadata": {},
   "outputs": [
    {
     "data": {
      "text/plain": [
       "[{'customer': 'Alice', 'total': 250.5},\n",
       " {'customer': 'Charlie', 'total': 450},\n",
       " {'customer': 'Daisy', 'total': 100.0}]"
      ]
     },
     "execution_count": 1,
     "metadata": {},
     "output_type": "execute_result"
    }
   ],
   "source": [
    "from typing import List, Dict\n",
    "\n",
    "def validate_orders(orders: List[Dict]) -> List[Dict]:\n",
    "\n",
    "    def is_valid(order):\n",
    "        try:\n",
    "            total = float(order['total'])  \n",
    "            return total >= 0  \n",
    "        except (ValueError, TypeError):\n",
    "            return False  \n",
    "\n",
    "    valid_orders = list(filter(lambda order: is_valid(order), orders))\n",
    "    return valid_orders\n",
    "\n",
    "orders = [\n",
    "    {\"customer\": \"Alice\", \"total\": 250.5},\n",
    "    {\"customer\": \"Bob\", \"total\": \"invalid_data\"},\n",
    "    {\"customer\": \"Charlie\", \"total\": 450},\n",
    "    {\"customer\": \"Daisy\", \"total\": 100.0},\n",
    "    {\"customer\": \"Eve\", \"total\": -30}, \n",
    "]\n",
    "\n",
    "valid_orders = validate_orders(orders)\n",
    "valid_orders \n"
   ]
  },
  {
   "cell_type": "markdown",
   "metadata": {},
   "source": [
    "### Part B: Discount Application"
   ]
  },
  {
   "cell_type": "code",
   "execution_count": 2,
   "metadata": {},
   "outputs": [
    {
     "data": {
      "text/plain": [
       "[{'customer': 'Alice', 'total': 250.5},\n",
       " {'customer': 'Charlie', 'total': 405.0},\n",
       " {'customer': 'Daisy', 'total': 100.0}]"
      ]
     },
     "execution_count": 2,
     "metadata": {},
     "output_type": "execute_result"
    }
   ],
   "source": [
    "def apply_discount(orders):\n",
    "    \n",
    "    discounted_orders = list(map(lambda order: {\n",
    "        \"customer\": order[\"customer\"],\n",
    "        \"total\": order[\"total\"] * 0.9 if order[\"total\"] > 300 else order[\"total\"]\n",
    "    }, orders))\n",
    "    return discounted_orders\n",
    "\n",
    "discounted_orders = apply_discount(valid_orders)\n",
    "discounted_orders  \n"
   ]
  },
  {
   "cell_type": "markdown",
   "metadata": {},
   "source": [
    "### Part C: Total Sales Calculation"
   ]
  },
  {
   "cell_type": "code",
   "execution_count": 4,
   "metadata": {},
   "outputs": [
    {
     "data": {
      "text/plain": [
       "755.5"
      ]
     },
     "execution_count": 4,
     "metadata": {},
     "output_type": "execute_result"
    }
   ],
   "source": [
    "from functools import reduce\n",
    "\n",
    "def calculate_total_sales(orders: List[Dict]) -> float:\n",
    "    \"\"\"\n",
    "    Calculates the total sales from the list of valid orders (after applying discounts).\n",
    "    Uses reduce() function with a lambda to sum the totals.\n",
    "    \"\"\"\n",
    "    total_sales = reduce(lambda acc, order: acc + order['total'], orders, 0)\n",
    "    return total_sales\n",
    "\n",
    "# Calculate total sales\n",
    "total_sales = calculate_total_sales(discounted_orders)\n",
    "total_sales  # Display the total sales"
   ]
  },
  {
   "cell_type": "markdown",
   "metadata": {},
   "source": [
    "## Task 2: Iterator and Generator"
   ]
  },
  {
   "cell_type": "markdown",
   "metadata": {},
   "source": [
    "### Part A: Custom Iterator"
   ]
  },
  {
   "cell_type": "code",
   "execution_count": 5,
   "metadata": {},
   "outputs": [
    {
     "data": {
      "text/plain": [
       "[1, 4, 9, 16, 25]"
      ]
     },
     "execution_count": 5,
     "metadata": {},
     "output_type": "execute_result"
    }
   ],
   "source": [
    "class SquareIterator:\n",
    "   \n",
    "    def __init__(self, n: int):\n",
    "        self.n = n\n",
    "        self.current = 1\n",
    "\n",
    "    def __iter__(self):\n",
    "        return self\n",
    "\n",
    "    def __next__(self):\n",
    "        if self.current > self.n:\n",
    "            raise StopIteration\n",
    "        else:\n",
    "            square = self.current ** 2\n",
    "            self.current += 1\n",
    "            return square\n",
    "\n",
    "square_iter = SquareIterator(5)\n",
    "squares = list(square_iter)  \n",
    "squares  \n"
   ]
  },
  {
   "cell_type": "markdown",
   "metadata": {},
   "source": [
    "### Part B: Fibonacci Generator"
   ]
  },
  {
   "cell_type": "code",
   "execution_count": 6,
   "metadata": {},
   "outputs": [
    {
     "data": {
      "text/plain": [
       "[0, 1, 1, 2, 3, 5, 8]"
      ]
     },
     "execution_count": 6,
     "metadata": {},
     "output_type": "execute_result"
    }
   ],
   "source": [
    "def fibonacci_generator(n: int):\n",
    "   \n",
    "    a, b = 0, 1\n",
    "    while a <= n:\n",
    "        yield a\n",
    "        a, b = b, a + b\n",
    "\n",
    "fib_sequence = list(fibonacci_generator(10))  \n",
    "fib_sequence  "
   ]
  },
  {
   "cell_type": "markdown",
   "metadata": {},
   "source": [
    "## Task 3: Exception Handling and Function Decorator"
   ]
  },
  {
   "cell_type": "markdown",
   "metadata": {},
   "source": [
    "### Part A: Chained Exceptions"
   ]
  },
  {
   "cell_type": "code",
   "execution_count": 7,
   "metadata": {},
   "outputs": [],
   "source": [
    "class DivisionError(Exception):\n",
    "    pass\n",
    "\n",
    "def safe_divide(numbers: List[float], divisor: float) -> List[float]:\n",
    "\n",
    "    results = []\n",
    "    for number in numbers:\n",
    "        try:\n",
    "            result = number / divisor\n",
    "            results.append(result)\n",
    "        except ZeroDivisionError as e:\n",
    "            raise DivisionError(\"Divisor cannot be zero\") from e\n",
    "        except TypeError as e:\n",
    "            raise DivisionError(f\"Invalid number encountered: {number}\") from e\n",
    "    return results\n",
    "\n",
    "numbers = [10, 20, 'invalid', 30]\n",
    "try:\n",
    "    division_results = safe_divide(numbers, 0)\n",
    "except DivisionError as e:\n",
    "    str(e)  "
   ]
  },
  {
   "cell_type": "markdown",
   "metadata": {},
   "source": [
    "### Part B: Exception Logging Decorator"
   ]
  },
  {
   "cell_type": "code",
   "execution_count": 8,
   "metadata": {},
   "outputs": [
    {
     "name": "stdout",
     "output_type": "stream",
     "text": [
      "Exception in function 'faulty_function': ZeroDivisionError - division by zero\n"
     ]
    }
   ],
   "source": [
    "def exception_logger(func):\n",
    "   \n",
    "    def wrapper(*args, **kwargs):\n",
    "        try:\n",
    "            return func(*args, **kwargs)\n",
    "        except Exception as e:\n",
    "            print(f\"Exception in function '{func.__name__}': {type(e).__name__} - {e}\")\n",
    "            raise  \n",
    "    return wrapper\n",
    "\n",
    "@exception_logger\n",
    "def faulty_function():\n",
    "    return 1 / 0  \n",
    "\n",
    "try:\n",
    "    faulty_function()\n",
    "except ZeroDivisionError:\n",
    "    pass  "
   ]
  }
 ],
 "metadata": {
  "kernelspec": {
   "display_name": "Python 3",
   "language": "python",
   "name": "python3"
  },
  "language_info": {
   "codemirror_mode": {
    "name": "ipython",
    "version": 3
   },
   "file_extension": ".py",
   "mimetype": "text/x-python",
   "name": "python",
   "nbconvert_exporter": "python",
   "pygments_lexer": "ipython3",
   "version": "3.12.6"
  }
 },
 "nbformat": 4,
 "nbformat_minor": 2
}
