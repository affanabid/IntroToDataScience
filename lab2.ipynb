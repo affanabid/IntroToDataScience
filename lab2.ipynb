{
 "cells": [
  {
   "cell_type": "markdown",
   "metadata": {},
   "source": [
    "1. NumPy array to store player names, game scores, and levels reached"
   ]
  },
  {
   "cell_type": "code",
   "execution_count": 1,
   "metadata": {},
   "outputs": [],
   "source": [
    "import numpy as np\n",
    "\n",
    "player_data = np.array([\n",
    "    [\"Alice\", 250, 5],\n",
    "    [\"Bob\", 300, 8],\n",
    "    [\"Charlie\", 200, 6]\n",
    "])"
   ]
  },
  {
   "cell_type": "markdown",
   "metadata": {},
   "source": [
    "2. Update the score of the player who has reached the highest level"
   ]
  },
  {
   "cell_type": "code",
   "execution_count": 2,
   "metadata": {},
   "outputs": [
    {
     "name": "stdout",
     "output_type": "stream",
     "text": [
      "Player at highest level:  ['Bob' '300' '8']\n",
      "After updation:\n",
      "Player at highest level:  ['Bob' '350' '8']\n"
     ]
    }
   ],
   "source": [
    "levels = player_data[:, 2].astype(int)  \n",
    "highest_level_index = np.argmax(levels)  \n",
    "\n",
    "print('Player at highest level: ', player_data[highest_level_index])\n",
    "\n",
    "\n",
    "player_data[highest_level_index, 1] = str(int(player_data[highest_level_index, 1]) + 50)  # Update score by 50\n",
    "\n",
    "print('After updation:')\n",
    "print('Player at highest level: ', player_data[highest_level_index])"
   ]
  },
  {
   "cell_type": "markdown",
   "metadata": {},
   "source": [
    "3. Append a new player's data (name, score, level) to the array. "
   ]
  },
  {
   "cell_type": "code",
   "execution_count": null,
   "metadata": {},
   "outputs": [
    {
     "name": "stdout",
     "output_type": "stream",
     "text": [
      "[['Alice' '250' '5']\n",
      " ['Bob' '350' '8']\n",
      " ['Charlie' '200' '6']] \n",
      "\n",
      "['Alice' '250' '5' 'Bob' '350' '8' 'Charlie' '200' '6' 'Dave' '220' '7'] \n",
      "\n",
      "[['Alice' '250' '5']\n",
      " ['Bob' '350' '8']\n",
      " ['Charlie' '200' '6']\n",
      " ['Dave' '220' '7']]\n"
     ]
    }
   ],
   "source": [
    "new_player = np.array([\"Dave\", 220, 7])\n",
    "print(player_data, '\\n')\n",
    "player_data = np.append(player_data, new_player)\n",
    "print(player_data, '\\n')\n",
    "player_data = player_data.reshape(4,3)\n",
    "print(player_data)"
   ]
  },
  {
   "cell_type": "markdown",
   "metadata": {},
   "source": [
    "4. Insert a new player's score at a specific index within the array."
   ]
  },
  {
   "cell_type": "code",
   "execution_count": 4,
   "metadata": {},
   "outputs": [
    {
     "name": "stdout",
     "output_type": "stream",
     "text": [
      "[['Alice' '250' '5']\n",
      " ['Bob' '350' '8']\n",
      " ['Charlie' '200' '6']\n",
      " ['Dave' '220' '7']] \n",
      "\n",
      "[['Alice' '250' '5']\n",
      " ['Bob' '350' '8']\n",
      " ['Eve' '270' '4']\n",
      " ['Charlie' '200' '6']\n",
      " ['Dave' '220' '7']]\n"
     ]
    }
   ],
   "source": [
    "new_score = np.array([\"Eve\", 270, 4])\n",
    "insert_index = 2  \n",
    "print(player_data, '\\n')\n",
    "player_data = np.insert(player_data, insert_index, new_score, axis=0)\n",
    "print(player_data)"
   ]
  },
  {
   "cell_type": "markdown",
   "metadata": {},
   "source": [
    "5. Delete the player with the lowest score from the dataset."
   ]
  },
  {
   "cell_type": "code",
   "execution_count": 5,
   "metadata": {},
   "outputs": [
    {
     "name": "stdout",
     "output_type": "stream",
     "text": [
      "[['Alice' '250' '5']\n",
      " ['Bob' '350' '8']\n",
      " ['Eve' '270' '4']\n",
      " ['Charlie' '200' '6']\n",
      " ['Dave' '220' '7']] \n",
      "\n",
      "[['Alice' '250' '5']\n",
      " ['Bob' '350' '8']\n",
      " ['Eve' '270' '4']\n",
      " ['Dave' '220' '7']]\n"
     ]
    }
   ],
   "source": [
    "scores = player_data[:, 1].astype(int)  \n",
    "lowest_score_index = np.argmin(scores)  \n",
    "print(player_data, '\\n')\n",
    "player_data = np.delete(player_data, lowest_score_index, axis=0)\n",
    "print(player_data)"
   ]
  },
  {
   "cell_type": "markdown",
   "metadata": {},
   "source": []
  },
  {
   "cell_type": "code",
   "execution_count": 6,
   "metadata": {},
   "outputs": [],
   "source": [
    "visitors = np.array([120, 150, 80, 200, 175])\n",
    "pages_viewed = np.array([300, 500, 200, 700, 650])\n"
   ]
  },
  {
   "cell_type": "code",
   "execution_count": 14,
   "metadata": {},
   "outputs": [
    {
     "name": "stdout",
     "output_type": "stream",
     "text": [
      "[120 150  80 200 175]\n",
      "[300 500 200 700 650]\n"
     ]
    }
   ],
   "source": [
    "import copy\n",
    "visitors_shallow_copy = visitors[:]\n",
    "pages_viewed_deep_copy = pages_viewed.copy()\n",
    "print(visitors_shallow_copy)\n",
    "print(pages_viewed_deep_copy)\n"
   ]
  },
  {
   "cell_type": "code",
   "execution_count": 15,
   "metadata": {},
   "outputs": [
    {
     "name": "stdout",
     "output_type": "stream",
     "text": [
      "[120 150  80 200 175 300 500 200 700 650]\n"
     ]
    }
   ],
   "source": [
    "combined_data = np.concatenate((visitors, pages_viewed))\n",
    "print(combined_data)"
   ]
  },
  {
   "cell_type": "code",
   "execution_count": 17,
   "metadata": {},
   "outputs": [
    {
     "name": "stdout",
     "output_type": "stream",
     "text": [
      "[120 150 200 175 300 500 200 700 650]\n",
      "[80]\n"
     ]
    }
   ],
   "source": [
    "threshold = 100\n",
    "high_traffic = combined_data[combined_data > threshold]\n",
    "low_traffic = combined_data[combined_data <= threshold]\n",
    "print(high_traffic)\n",
    "print(low_traffic)\n"
   ]
  },
  {
   "cell_type": "code",
   "execution_count": null,
   "metadata": {},
   "outputs": [
    {
     "name": "stdout",
     "output_type": "stream",
     "text": [
      "Original Copy of Visitors: [130 150  80 200 175]\n",
      "Shallow Copy of Visitors: [130 150  80 200 175]\n",
      "\n",
      "Original Copy of pages viewed: [600 500 200 700 650]\n",
      "Deep Copy of Pages Viewed: [300 500 200 700 650]\n"
     ]
    }
   ],
   "source": [
    "visitors[0] = 130  \n",
    "pages_viewed[0] = 600  \n",
    "\n",
    "print(\"Original Copy of Visitors:\", visitors) \n",
    "\n",
    "print(\"Shallow Copy of Visitors:\", visitors_shallow_copy) \n",
    "\n",
    "print(\"\\nOriginal Copy of pages viewed:\", pages_viewed) \n",
    "\n",
    "print(\"Deep Copy of Pages Viewed:\", pages_viewed_deep_copy)  "
   ]
  }
 ],
 "metadata": {
  "kernelspec": {
   "display_name": "Python 3",
   "language": "python",
   "name": "python3"
  },
  "language_info": {
   "codemirror_mode": {
    "name": "ipython",
    "version": 3
   },
   "file_extension": ".py",
   "mimetype": "text/x-python",
   "name": "python",
   "nbconvert_exporter": "python",
   "pygments_lexer": "ipython3",
   "version": "3.12.6"
  }
 },
 "nbformat": 4,
 "nbformat_minor": 2
}
