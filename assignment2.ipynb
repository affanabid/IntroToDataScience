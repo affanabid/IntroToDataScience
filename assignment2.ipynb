{
 "cells": [
  {
   "cell_type": "markdown",
   "metadata": {},
   "source": [
    "Part-1: User Data Processing with Lists"
   ]
  },
  {
   "cell_type": "markdown",
   "metadata": {},
   "source": [
    "1.1: Function for filtering users older than 30 from specific countries and extracting their names"
   ]
  },
  {
   "cell_type": "code",
   "execution_count": 1,
   "metadata": {},
   "outputs": [],
   "source": [
    "def filter_users(users, countries=('USA', 'Canada')):\n",
    "    filtered_names = []\n",
    "    for user in users: \n",
    "        user_name = user[1]\n",
    "        age = user[2]\n",
    "        country = user[3]\n",
    "        if age > 30 and country in countries:\n",
    "            filtered_names.append(user_name)\n",
    "    return filtered_names"
   ]
  },
  {
   "cell_type": "markdown",
   "metadata": {},
   "source": [
    "1.2: Function for sorting users by age, checking for duplicate names, and returning the oldest users"
   ]
  },
  {
   "cell_type": "code",
   "execution_count": 2,
   "metadata": {},
   "outputs": [],
   "source": [
    "def sort_and_check_duplicates(user_data):\n",
    "    sorted_users = sorted(user_data, key=lambda x: x[2], reverse=True)[:10]\n",
    "    \n",
    "    name_count = {}\n",
    "    duplicates = []\n",
    "    for user in user_data:\n",
    "        name = user[1]\n",
    "        if name in name_count:\n",
    "            name_count[name] += 1\n",
    "        else:\n",
    "            name_count[name] = 1\n",
    "    \n",
    "    duplicates = [name for name, count in name_count.items() if count > 1]\n",
    "    \n",
    "    return sorted_users, duplicates\n"
   ]
  },
  {
   "cell_type": "markdown",
   "metadata": {},
   "source": [
    "1.3: Calling the functions and displaying the results"
   ]
  },
  {
   "cell_type": "code",
   "execution_count": 3,
   "metadata": {},
   "outputs": [
    {
     "name": "stdout",
     "output_type": "stream",
     "text": [
      "Filtered names (older than 30 from USA or Canada): ['Bob', 'Dave', 'Frank', 'Grace', 'Ivy', 'Liam', 'Nina']\n",
      "\n",
      "Top 10 oldest users:\n",
      "(14, 'Nina', 55, 'USA')\n",
      "(10, 'Jack', 50, 'Australia')\n",
      "(7, 'Grace', 45, 'Canada')\n",
      "(9, 'Ivy', 42, 'Canada')\n",
      "(3, 'Charlie', 40, 'UK')\n",
      "(12, 'Liam', 36, 'USA')\n",
      "(2, 'Bob', 35, 'Canada')\n",
      "(6, 'Frank', 33, 'USA')\n",
      "(11, 'Karl', 32, 'Germany')\n",
      "(4, 'Dave', 31, 'USA')\n",
      "\n",
      "Duplicate names found: []\n"
     ]
    }
   ],
   "source": [
    "user_data = [\n",
    "    (1, 'Alice', 25, 'USA'), (2, 'Bob', 35, 'Canada'), (3, 'Charlie', 40, 'UK'), \n",
    "    (4, 'Dave', 31, 'USA'), (5, 'Eve', 29, 'Canada'), (6, 'Frank', 33, 'USA'),\n",
    "    (7, 'Grace', 45, 'Canada'), (8, 'Hank', 27, 'USA'), (9, 'Ivy', 42, 'Canada'),\n",
    "    (10, 'Jack', 50, 'Australia'), (11, 'Karl', 32, 'Germany'), (12, 'Liam', 36, 'USA'),\n",
    "    (13, 'Maya', 29, 'Canada'), (14, 'Nina', 55, 'USA'), (15, 'Oscar', 30, 'USA')\n",
    "]\n",
    "\n",
    "filtered_names = filter_users(user_data)\n",
    "print(\"Filtered names (older than 30 from USA or Canada):\", filtered_names)\n",
    "\n",
    "sorted_users, duplicate_names = sort_and_check_duplicates(user_data)\n",
    "print(\"\\nTop 10 oldest users:\")\n",
    "for user in sorted_users:\n",
    "    print(user)\n",
    "\n",
    "print(\"\\nDuplicate names found:\", duplicate_names)\n"
   ]
  },
  {
   "cell_type": "markdown",
   "metadata": {},
   "source": [
    "Part 2: Immutable Data Management with Tuples"
   ]
  },
  {
   "cell_type": "markdown",
   "metadata": {},
   "source": [
    "2.1: Function to find the total number of unique users involved in transactions"
   ]
  },
  {
   "cell_type": "code",
   "execution_count": 4,
   "metadata": {},
   "outputs": [],
   "source": [
    "def count_unique_users(transactions):\n",
    "    unique_users = {transaction[1] for transaction in transactions}\n",
    "    \n",
    "    return len(unique_users)\n"
   ]
  },
  {
   "cell_type": "markdown",
   "metadata": {},
   "source": [
    "2.2: Functions for managing transactions without altering the original tuples"
   ]
  },
  {
   "cell_type": "code",
   "execution_count": 5,
   "metadata": {},
   "outputs": [],
   "source": [
    "def find_transaction_with_highest_amount(transactions):\n",
    "    highest_transaction = max(transactions, key=lambda x: x[2])\n",
    "    return highest_transaction\n",
    "\n",
    "def extract_ids(transactions):\n",
    "    transaction_ids = [transaction[0] for transaction in transactions]\n",
    "    user_ids = [transaction[1] for transaction in transactions]\n",
    "    \n",
    "    return transaction_ids, user_ids\n",
    "\n",
    "# Potential challenge with inconsistent tuple sizes:\n",
    "# If the tuple size is inconsistent (i.e., some tuples have fewer or more elements than expected),\n",
    "# the function could raise an IndexError when trying to access specific elements (e.g., transaction[2] for the amount).\n",
    "# To handle this, we could add a check to ensure that each tuple has the correct number of elements.\n"
   ]
  },
  {
   "cell_type": "markdown",
   "metadata": {},
   "source": [
    "2.3: Calling the functions and displaying the results"
   ]
  },
  {
   "cell_type": "code",
   "execution_count": 6,
   "metadata": {},
   "outputs": [
    {
     "name": "stdout",
     "output_type": "stream",
     "text": [
      "Total number of unique users: 5\n",
      "\n",
      "Transaction with the highest amount: (206, 105, 750.0, '2023-10-03 12:00:00')\n",
      "\n",
      "Transaction IDs: [201, 202, 203, 204, 205, 206, 207]\n",
      "User IDs: [101, 102, 101, 103, 104, 105, 102]\n"
     ]
    }
   ],
   "source": [
    "transactions_data = [\n",
    "    (201, 101, 250.75, '2023-10-01 12:30:00'),\n",
    "    (202, 102, 320.00, '2023-10-01 13:15:00'),\n",
    "    (203, 101, 100.50, '2023-10-02 09:45:00'),\n",
    "    (204, 103, 500.00, '2023-10-02 10:30:00'),\n",
    "    (205, 104, 150.20, '2023-10-03 11:00:00'),\n",
    "    (206, 105, 750.00, '2023-10-03 12:00:00'),\n",
    "    (207, 102, 50.25, '2023-10-03 14:00:00'),\n",
    "]\n",
    "\n",
    "unique_user_count = count_unique_users(transactions_data)\n",
    "print(\"Total number of unique users:\", unique_user_count)\n",
    "\n",
    "highest_transaction = find_transaction_with_highest_amount(transactions_data)\n",
    "print(\"\\nTransaction with the highest amount:\", highest_transaction)\n",
    "\n",
    "transaction_ids, user_ids = extract_ids(transactions_data)\n",
    "print(\"\\nTransaction IDs:\", transaction_ids)\n",
    "print(\"User IDs:\", user_ids)\n"
   ]
  },
  {
   "cell_type": "markdown",
   "metadata": {},
   "source": [
    "Part 3: Unique Data Handling with Sets"
   ]
  },
  {
   "cell_type": "markdown",
   "metadata": {},
   "source": [
    "3.1: Function to find users who visited both Page A and Page B, and users who visited either Page A or Page C, but not both"
   ]
  },
  {
   "cell_type": "code",
   "execution_count": 7,
   "metadata": {},
   "outputs": [],
   "source": [
    "def find_common_and_exclusive_users(page_A, page_B, page_C):\n",
    "    common_AB = page_A.intersection(page_B)\n",
    "    \n",
    "    exclusive_AC = page_A.symmetric_difference(page_C)\n",
    "    \n",
    "    return common_AB, exclusive_AC\n"
   ]
  },
  {
   "cell_type": "markdown",
   "metadata": {},
   "source": [
    "3.2: Functions to update Page A and remove users from Page B"
   ]
  },
  {
   "cell_type": "code",
   "execution_count": 8,
   "metadata": {},
   "outputs": [],
   "source": [
    "def update_page_A(page_A, new_user_ids):\n",
    "    page_A.update(new_user_ids)\n",
    "\n",
    "def remove_users_from_page_B(page_B, user_ids_to_remove):\n",
    "    page_B.difference_update(user_ids_to_remove)"
   ]
  },
  {
   "cell_type": "markdown",
   "metadata": {},
   "source": [
    "3.3: Calling the functions and displaying the results"
   ]
  },
  {
   "cell_type": "code",
   "execution_count": 9,
   "metadata": {},
   "outputs": [
    {
     "name": "stdout",
     "output_type": "stream",
     "text": [
      "Users who visited both Page A and Page B: {102, 103}\n",
      "Users who visited either Page A or Page C, but not both: {101, 102, 103, 109, 110}\n",
      "\n",
      "Updated Page A visitors: {112, 101, 102, 103, 104, 105, 111}\n",
      "Updated Page B visitors after removal: {102, 103, 107}\n"
     ]
    }
   ],
   "source": [
    "page_A_visitors = {101, 102, 103, 104, 105}\n",
    "page_B_visitors = {103, 106, 107, 108, 102}\n",
    "page_C_visitors = {109, 105, 110, 104}\n",
    "\n",
    "common_users_AB, exclusive_users_AC = find_common_and_exclusive_users(page_A_visitors, page_B_visitors, page_C_visitors)\n",
    "print(\"Users who visited both Page A and Page B:\", common_users_AB)\n",
    "print(\"Users who visited either Page A or Page C, but not both:\", exclusive_users_AC)\n",
    "\n",
    "new_user_ids_for_A = {111, 112}\n",
    "update_page_A(page_A_visitors, new_user_ids_for_A)\n",
    "print(\"\\nUpdated Page A visitors:\", page_A_visitors)\n",
    "\n",
    "user_ids_to_remove_from_B = {106, 108}\n",
    "remove_users_from_page_B(page_B_visitors, user_ids_to_remove_from_B)\n",
    "print(\"Updated Page B visitors after removal:\", page_B_visitors)"
   ]
  },
  {
   "cell_type": "markdown",
   "metadata": {},
   "source": [
    "Part 4: Data Aggregation with Dictionaries"
   ]
  },
  {
   "cell_type": "markdown",
   "metadata": {},
   "source": [
    "4.1: Function to filter users with rating 4 or higher and sort by rating"
   ]
  },
  {
   "cell_type": "code",
   "execution_count": 10,
   "metadata": {},
   "outputs": [],
   "source": [
    "def filter_high_rated_users(feedback_dict):\n",
    "    high_rated_users = {user_id: details['rating'] for user_id, details in feedback_dict.items() if details['rating'] >= 4}\n",
    "    return high_rated_users\n",
    "\n",
    "def get_top_5_users(feedback_dict):\n",
    "    sorted_users = sorted(feedback_dict.items(), key=lambda x: x[1]['rating'], reverse=True)\n",
    "    top_5_users = dict(sorted_users[:5])\n",
    "    return top_5_users"
   ]
  },
  {
   "cell_type": "markdown",
   "metadata": {},
   "source": [
    "4.2: Function to combine feedback from multiple dictionaries and use dictionary comprehension for ratings > 3"
   ]
  },
  {
   "cell_type": "code",
   "execution_count": 11,
   "metadata": {},
   "outputs": [],
   "source": [
    "def combine_feedback_dicts(*feedback_dicts):\n",
    "    combined_feedback = {}\n",
    "    \n",
    "    for feedback in feedback_dicts:\n",
    "        for user_id, details in feedback.items():\n",
    "            if user_id in combined_feedback:\n",
    "                combined_feedback[user_id]['rating'] = max(combined_feedback[user_id]['rating'], details['rating'])\n",
    "                combined_feedback[user_id]['comments'] += ' ' + details['comments']\n",
    "            else:\n",
    "                combined_feedback[user_id] = details.copy()  # Use copy to avoid mutation of original\n",
    "    \n",
    "    return combined_feedback\n",
    "\n",
    "def create_dict_ratings_above_3(feedback_dict):\n",
    "    return {user_id: details['rating'] for user_id, details in feedback_dict.items() if details['rating'] > 3}\n"
   ]
  },
  {
   "cell_type": "markdown",
   "metadata": {},
   "source": [
    "4.3: Calling the functions and displaying the results"
   ]
  },
  {
   "cell_type": "code",
   "execution_count": 12,
   "metadata": {},
   "outputs": [
    {
     "name": "stdout",
     "output_type": "stream",
     "text": [
      "Users with rating 4 or higher: {101: 5, 103: 4}\n",
      "\n",
      "Top 5 users by rating: {101: {'rating': 5, 'comments': 'Excellent!'}, 103: {'rating': 4, 'comments': 'Very good experience.'}, 102: {'rating': 3, 'comments': 'Good, but could improve.'}}\n",
      "\n",
      "Combined feedback from multiple dictionaries: {101: {'rating': 5, 'comments': 'Excellent!'}, 102: {'rating': 3, 'comments': 'Good, but could improve.'}, 103: {'rating': 4, 'comments': 'Very good experience. Loved it!'}, 104: {'rating': 5, 'comments': 'Outstanding service!'}, 105: {'rating': 2, 'comments': 'Not satisfied.'}}\n",
      "\n",
      "User IDs and ratings (rating > 3): {101: 5, 103: 4, 104: 5}\n"
     ]
    }
   ],
   "source": [
    "feedback_dict1 = {\n",
    "    101: {'rating': 5, 'comments': \"Excellent!\"},\n",
    "    102: {'rating': 3, 'comments': \"Good, but could improve.\"},\n",
    "    103: {'rating': 4, 'comments': \"Very good experience.\"}\n",
    "}\n",
    "\n",
    "feedback_dict2 = {\n",
    "    103: {'rating': 4, 'comments': \"Loved it!\"},\n",
    "    104: {'rating': 5, 'comments': \"Outstanding service!\"},\n",
    "    105: {'rating': 2, 'comments': \"Not satisfied.\"}\n",
    "}\n",
    "\n",
    "high_rated_users = filter_high_rated_users(feedback_dict1)\n",
    "print(\"Users with rating 4 or higher:\", high_rated_users)\n",
    "\n",
    "top_5_users = get_top_5_users(feedback_dict1)\n",
    "print(\"\\nTop 5 users by rating:\", top_5_users)\n",
    "\n",
    "combined_feedback = combine_feedback_dicts(feedback_dict1, feedback_dict2)\n",
    "print(\"\\nCombined feedback from multiple dictionaries:\", combined_feedback)\n",
    "\n",
    "ratings_above_3 = create_dict_ratings_above_3(combined_feedback)\n",
    "print(\"\\nUser IDs and ratings (rating > 3):\", ratings_above_3)"
   ]
  }
 ],
 "metadata": {
  "kernelspec": {
   "display_name": "Python 3",
   "language": "python",
   "name": "python3"
  },
  "language_info": {
   "codemirror_mode": {
    "name": "ipython",
    "version": 3
   },
   "file_extension": ".py",
   "mimetype": "text/x-python",
   "name": "python",
   "nbconvert_exporter": "python",
   "pygments_lexer": "ipython3",
   "version": "3.12.6"
  }
 },
 "nbformat": 4,
 "nbformat_minor": 2
}
